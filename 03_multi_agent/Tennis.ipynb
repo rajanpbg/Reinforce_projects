{
 "cells": [
  {
   "cell_type": "markdown",
   "metadata": {},
   "source": [
    "# Collaboration and Competition\n",
    "\n",
    "---\n",
    "\n",
    "You are welcome to use this coding environment to train your agent for the project.  Follow the instructions below to get started!\n",
    "\n",
    "### 1. Start the Environment\n",
    "\n",
    "Run the next code cell to install a few packages.  This line will take a few minutes to run!"
   ]
  },
  {
   "cell_type": "code",
   "execution_count": 1,
   "metadata": {},
   "outputs": [
    {
     "name": "stdout",
     "output_type": "stream",
     "text": [
      "\u001b[31mtensorflow 1.7.1 has requirement numpy>=1.13.3, but you'll have numpy 1.12.1 which is incompatible.\u001b[0m\r\n",
      "\u001b[31mipython 6.5.0 has requirement prompt-toolkit<2.0.0,>=1.0.15, but you'll have prompt-toolkit 3.0.5 which is incompatible.\u001b[0m\r\n"
     ]
    }
   ],
   "source": [
    "!pip -q install ./python"
   ]
  },
  {
   "cell_type": "markdown",
   "metadata": {},
   "source": [
    "The environment is already saved in the Workspace and can be accessed at the file path provided below. "
   ]
  },
  {
   "cell_type": "code",
   "execution_count": 2,
   "metadata": {},
   "outputs": [
    {
     "name": "stderr",
     "output_type": "stream",
     "text": [
      "INFO:unityagents:\n",
      "'Academy' started successfully!\n",
      "Unity Academy name: Academy\n",
      "        Number of Brains: 1\n",
      "        Number of External Brains : 1\n",
      "        Lesson number : 0\n",
      "        Reset Parameters :\n",
      "\t\t\n",
      "Unity brain name: TennisBrain\n",
      "        Number of Visual Observations (per agent): 0\n",
      "        Vector Observation space type: continuous\n",
      "        Vector Observation space size (per agent): 8\n",
      "        Number of stacked Vector Observation: 3\n",
      "        Vector Action space type: continuous\n",
      "        Vector Action space size (per agent): 2\n",
      "        Vector Action descriptions: , \n"
     ]
    }
   ],
   "source": [
    "from unityagents import UnityEnvironment\n",
    "import numpy as np\n",
    "\n",
    "env = UnityEnvironment(file_name=\"/data/Tennis_Linux_NoVis/Tennis\")"
   ]
  },
  {
   "cell_type": "markdown",
   "metadata": {},
   "source": [
    "Environments contain **_brains_** which are responsible for deciding the actions of their associated agents. Here we check for the first brain available, and set it as the default brain we will be controlling from Python."
   ]
  },
  {
   "cell_type": "code",
   "execution_count": 3,
   "metadata": {},
   "outputs": [],
   "source": [
    "# get the default brain\n",
    "brain_name = env.brain_names[0]\n",
    "brain = env.brains[brain_name]"
   ]
  },
  {
   "cell_type": "markdown",
   "metadata": {},
   "source": [
    "### 2. Examine the State and Action Spaces\n",
    "\n",
    "Run the code cell below to print some information about the environment."
   ]
  },
  {
   "cell_type": "code",
   "execution_count": 4,
   "metadata": {},
   "outputs": [
    {
     "name": "stdout",
     "output_type": "stream",
     "text": [
      "Number of agents: 2\n",
      "Size of each action: 2\n",
      "There are 2 agents. Each observes a state with length: 24\n",
      "The state for the first agent looks like: [ 0.          0.          0.          0.          0.          0.          0.\n",
      "  0.          0.          0.          0.          0.          0.          0.\n",
      "  0.          0.         -6.65278625 -1.5        -0.          0.\n",
      "  6.83172083  6.         -0.          0.        ]\n"
     ]
    }
   ],
   "source": [
    "# reset the environment\n",
    "env_info = env.reset(train_mode=True)[brain_name]\n",
    "\n",
    "# number of agents \n",
    "num_agents = len(env_info.agents)\n",
    "print('Number of agents:', num_agents)\n",
    "\n",
    "# size of each action\n",
    "action_size = brain.vector_action_space_size\n",
    "print('Size of each action:', action_size)\n",
    "\n",
    "# examine the state space \n",
    "states = env_info.vector_observations\n",
    "state_size = states.shape[1]\n",
    "print('There are {} agents. Each observes a state with length: {}'.format(states.shape[0], state_size))\n",
    "print('The state for the first agent looks like:', states[0])"
   ]
  },
  {
   "cell_type": "markdown",
   "metadata": {},
   "source": [
    "### 3. Take Random Actions in the Environment\n",
    "\n",
    "In the next code cell, you will learn how to use the Python API to control the agent and receive feedback from the environment.\n",
    "\n",
    "Note that **in this coding environment, you will not be able to watch the agents while they are training**, and you should set `train_mode=True` to restart the environment."
   ]
  },
  {
   "cell_type": "code",
   "execution_count": 5,
   "metadata": {},
   "outputs": [
    {
     "name": "stdout",
     "output_type": "stream",
     "text": [
      "Total score (averaged over agents) this episode: -0.004999999888241291\n",
      "Total score (averaged over agents) this episode: -0.004999999888241291\n",
      "Total score (averaged over agents) this episode: -0.004999999888241291\n",
      "Total score (averaged over agents) this episode: 0.04500000085681677\n",
      "Total score (averaged over agents) this episode: -0.004999999888241291\n"
     ]
    }
   ],
   "source": [
    "for i in range(5):                                         # play game for 5 episodes\n",
    "    env_info = env.reset(train_mode=False)[brain_name]     # reset the environment    \n",
    "    states = env_info.vector_observations                  # get the current state (for each agent)\n",
    "    scores = np.zeros(num_agents)                          # initialize the score (for each agent)\n",
    "    while True:\n",
    "        actions = np.random.randn(num_agents, action_size) # select an action (for each agent)\n",
    "        actions = np.clip(actions, -1, 1)                  # all actions between -1 and 1\n",
    "        env_info = env.step(actions)[brain_name]           # send all actions to tne environment\n",
    "        next_states = env_info.vector_observations         # get next state (for each agent)\n",
    "        rewards = env_info.rewards                         # get reward (for each agent)\n",
    "        dones = env_info.local_done                        # see if episode finished\n",
    "        scores += env_info.rewards                         # update the score (for each agent)\n",
    "        states = next_states                               # roll over states to next time step\n",
    "        if np.any(dones):                                  # exit loop if episode finished\n",
    "            break\n",
    "    print('Total score (averaged over agents) this episode: {}'.format(np.mean(scores)))"
   ]
  },
  {
   "cell_type": "markdown",
   "metadata": {},
   "source": [
    "When finished, you can close the environment."
   ]
  },
  {
   "cell_type": "code",
   "execution_count": 6,
   "metadata": {},
   "outputs": [],
   "source": [
    "#env.close()"
   ]
  },
  {
   "cell_type": "markdown",
   "metadata": {},
   "source": [
    "### 4. It's Your Turn!\n",
    "\n",
    "Now it's your turn to train your own agent to solve the environment!  A few **important notes**:\n",
    "- When training the environment, set `train_mode=True`, so that the line for resetting the environment looks like the following:\n",
    "```python\n",
    "env_info = env.reset(train_mode=True)[brain_name]\n",
    "```\n",
    "- To structure your work, you're welcome to work directly in this Jupyter notebook, or you might like to start over with a new file!  You can see the list of files in the workspace by clicking on **_Jupyter_** in the top left corner of the notebook.\n",
    "- In this coding environment, you will not be able to watch the agents while they are training.  However, **_after training the agents_**, you can download the saved model weights to watch the agents on your own machine! "
   ]
  },
  {
   "cell_type": "markdown",
   "metadata": {},
   "source": [
    "### The agent to train our model is DDPG (Deep Deterministic Policy Gradient ) model\n",
    "\n",
    "This model is used to train the agents. \n",
    "\n",
    "The overall Architecure of DDPG is\n",
    "\n",
    "1) Actor: policy network (2 neural nets local, target) used to give action by taking the state as input\n",
    "\n",
    "2) Critic: Value function Network (2 neural nets local, target) used to provide value fucntion for the action which will be used as critic to train the model\n",
    "\n",
    "3) Replybuffer: This is used to be a offpolicy network training arcchitecture\n",
    "\n",
    "So just like DQN we will start with random action by using the OU noise added to the action that we get from policy network during training. Also i have added a decay factor to nosie so that we can reduce the amount exploration during end of training\n",
    "\n",
    "After that we will use that action and state to critic network to get value fucntion which will be used as critic,\n",
    "\n",
    "Then we backpropagate the error using that\n",
    "Inorder to find best model we need to find best hyperparameters\n",
    "\n",
    "1) learing rate for policy network and value network\n",
    "\n",
    "2) Sigma for OU nosie for exploration\n",
    "\n",
    "\n",
    "### So hyperparameters for our final DDPG model are\n",
    "\n",
    "Learning rate: 1e-4\n",
    "\n",
    "Sigma(for OU noise): 0.2\n",
    "\n",
    "Batch size: 128\n",
    "\n",
    "So we will use these parameters and train the model for 600 episodes\n",
    "\n",
    "The single agent is able to solve the probelem in 300 Episode\n",
    "\n"
   ]
  },
  {
   "cell_type": "code",
   "execution_count": 14,
   "metadata": {},
   "outputs": [],
   "source": [
    "import numpy as np\n",
    "from Agent import Agent_multi\n",
    "import torch\n",
    "from collections import deque,defaultdict\n",
    "def train_the_agent(env,n_episodes = 2000):\n",
    "    brain_name = env.brain_names[0]\n",
    "    brain = env.brains[brain_name]\n",
    "    env_info = env.reset(train_mode=True)[brain_name]\n",
    "    states = env_info.vector_observations\n",
    "    state_size = states.shape[1]\n",
    "    action_size = brain.vector_action_space_size\n",
    "    #print(state_size, action_size)\n",
    "    num_agents = len(env_info.agents)\n",
    "    agent = Agent_multi(state_size=state_size, action_size=action_size, number_agents=num_agents,random_seed=10,sigma=0.2)\n",
    "    scores_deque = deque(maxlen=100)\n",
    "    scores_overall = []\n",
    "    max_score = -np.Inf\n",
    "    avg_scrores = []\n",
    "    individual_scores = defaultdict(list)\n",
    "    for i_episode in range(1, n_episodes + 1):\n",
    "        env_info = env.reset(train_mode=True)[brain_name]\n",
    "        state = env_info.vector_observations\n",
    "        agent.reset()\n",
    "        scores = np.zeros(num_agents)\n",
    "        time = 0\n",
    "        while True:\n",
    "            action = agent.act(state)\n",
    "            env_info = env.step(action)[brain_name]\n",
    "            next_state = env_info.vector_observations\n",
    "            reward = env_info.rewards\n",
    "            done = env_info.local_done\n",
    "            time += 1\n",
    "            agent.step(state, action, reward, next_state, done,time)\n",
    "            state = next_state\n",
    "            scores += reward\n",
    "            if np.any(done):\n",
    "                break\n",
    "        agnet_num = 0\n",
    "        score = np.max(scores)\n",
    "        scores_deque.append(score)\n",
    "        scores_overall.append(score)\n",
    "        for i in scores:\n",
    "            individual_scores[agnet_num].append(i)\n",
    "            agnet_num += 1\n",
    "        print('\\rEpisode {}\\tAverage Score: {:.2f}\\tScore: {:.2f} \\t Max: {:.2f} \\t Min: {:.2f}'.format(i_episode, np.mean(scores_deque), score, np.max(scores),np.min(scores)),\n",
    "              end=\"\")\n",
    "        if i_episode % 100 == 0:\n",
    "            torch.save(agent.actor_local.state_dict(), 'checkpoint_actor_multi.pth')\n",
    "            torch.save(agent.critic_local.state_dict(), 'checkpoint_critic_multi.pth')\n",
    "            avg_scrores.append(np.mean(scores_deque))\n",
    "            print('\\rEpisode {}\\tAverage Score: {:.2f}'.format(i_episode, np.mean(scores_deque)))\n",
    "    return scores_overall,avg_scrores"
   ]
  },
  {
   "cell_type": "code",
   "execution_count": 15,
   "metadata": {},
   "outputs": [
    {
     "name": "stdout",
     "output_type": "stream",
     "text": [
      "Episode 100\tAverage Score: 0.00\tScore: 0.00 \t Max: 0.00 \t Min: -0.01\n",
      "Episode 200\tAverage Score: 0.00\tScore: 0.00 \t Max: 0.00 \t Min: -0.01\n",
      "Episode 300\tAverage Score: 0.00\tScore: 0.00 \t Max: 0.00 \t Min: -0.01\n",
      "Episode 400\tAverage Score: 0.00\tScore: 0.00 \t Max: 0.00 \t Min: -0.01\n",
      "Episode 500\tAverage Score: 0.00\tScore: 0.00 \t Max: 0.00 \t Min: -0.01\n",
      "Episode 600\tAverage Score: 0.02\tScore: 0.09 \t Max: 0.09 \t Min: 0.001\n",
      "Episode 700\tAverage Score: 0.04\tScore: 0.00 \t Max: 0.00 \t Min: -0.01\n",
      "Episode 800\tAverage Score: 0.04\tScore: 0.10 \t Max: 0.10 \t Min: -0.01\n",
      "Episode 900\tAverage Score: 0.07\tScore: 0.10 \t Max: 0.10 \t Min: -0.01\n",
      "Episode 1000\tAverage Score: 0.07\tScore: 0.00 \t Max: 0.00 \t Min: -0.01\n",
      "Episode 1100\tAverage Score: 0.06\tScore: 0.20 \t Max: 0.20 \t Min: 0.091\n",
      "Episode 1200\tAverage Score: 0.09\tScore: 0.00 \t Max: 0.00 \t Min: -0.01\n",
      "Episode 1300\tAverage Score: 0.11\tScore: 0.10 \t Max: 0.10 \t Min: -0.01\n",
      "Episode 1400\tAverage Score: 0.12\tScore: 0.09 \t Max: 0.09 \t Min: 0.001\n",
      "Episode 1500\tAverage Score: 0.16\tScore: 0.10 \t Max: 0.10 \t Min: -0.01\n",
      "Episode 1600\tAverage Score: 0.13\tScore: 0.10 \t Max: 0.10 \t Min: 0.091\n",
      "Episode 1700\tAverage Score: 0.29\tScore: 0.10 \t Max: 0.10 \t Min: -0.01\n",
      "Episode 1800\tAverage Score: 1.68\tScore: 2.60 \t Max: 2.60 \t Min: 2.601\n",
      "Episode 1900\tAverage Score: 1.87\tScore: 0.40 \t Max: 0.40 \t Min: 0.391\n",
      "Episode 2000\tAverage Score: 2.12\tScore: 0.20 \t Max: 0.20 \t Min: 0.091\n"
     ]
    }
   ],
   "source": [
    "scores_overall,avg_scrores = train_the_agent(env)"
   ]
  },
  {
   "cell_type": "code",
   "execution_count": 16,
   "metadata": {},
   "outputs": [
    {
     "data": {
      "image/png": "[encoded data removed]",
      "text/plain": [
       "<matplotlib.figure.Figure at 0x7fad618a7550>"
      ]
     },
     "metadata": {
      "needs_background": "light"
     },
     "output_type": "display_data"
    }
   ],
   "source": [
    "## lets plot over the avg_scores\n",
    "import matplotlib.pyplot  as plt\n",
    "%matplotlib inline  \n",
    "plt.plot(avg_scrores)\n",
    "plt.title('Trained Model avg score for 2000  episodes over 100')\n",
    "plt.show()"
   ]
  },
  {
   "cell_type": "code",
   "execution_count": 17,
   "metadata": {},
   "outputs": [
    {
     "data": {
      "image/png": "[encoded data removed]",
      "text/plain": [
       "<matplotlib.figure.Figure at 0x7fad61876390>"
      ]
     },
     "metadata": {
      "needs_background": "light"
     },
     "output_type": "display_data"
    }
   ],
   "source": [
    "## lets plot over the scores\n",
    "import matplotlib.pyplot  as plt\n",
    "%matplotlib inline  \n",
    "plt.plot(scores_overall)\n",
    "plt.title('scores for agent over 2000 episodes')\n",
    "plt.show()"
   ]
  },
  {
   "cell_type": "code",
   "execution_count": 18,
   "metadata": {},
   "outputs": [],
   "source": [
    "### lets make test run\n",
    "from Agent import Agent_multi\n",
    "import torch\n",
    "device = torch.device(\"cuda:0\" if torch.cuda.is_available() else \"cpu\")\n",
    "def trained_qmodel_run(env):\n",
    "    brain_name = env.brain_names[0]\n",
    "    brain = env.brains[brain_name]\n",
    "    env_info = env.reset(train_mode=False)[brain_name]  # reset the environment\n",
    "    # env_info = env.reset(train_mode=True)[brain_name]\n",
    "    states = env_info.vector_observations  # get the current state (for each agent)\n",
    "    num_agents = len(env_info.agents)\n",
    "    state_size = states.shape[1]\n",
    "    action_size = brain.vector_action_space_size\n",
    "    agent = Agent_multi(state_size=state_size, action_size=action_size, number_agents=num_agents, random_seed=10,\n",
    "                        sigma=0.05)\n",
    "    scores = np.zeros(num_agents)\n",
    "    action_size = brain.vector_action_space_size\n",
    "    #print('Size of each action:', action_size)\n",
    "    # initialize the score (for each agent)\n",
    "    count = 0\n",
    "    scores = np.zeros(num_agents)\n",
    "    while True:\n",
    "        actions = agent.trained_act(states)  # select an action (for each agent)\n",
    "        env_info = env.step(actions)[brain_name]  # send all actions to tne environment\n",
    "        next_states = env_info.vector_observations  # get next state (for each agent)\n",
    "        rewards = env_info.rewards  # get reward (for each agent)\n",
    "        dones = env_info.local_done  # see if episode finished\n",
    "        scores += env_info.rewards  # update the score (for each agent)\n",
    "        states = next_states  # roll over states to next time step\n",
    "        if np.any(dones):  # exit loop if episode finished\n",
    "            break\n",
    "    print('Total score (averaged over agents) this episode: {} , individual scores: {}'.format(np.max(scores),scores))"
   ]
  },
  {
   "cell_type": "code",
   "execution_count": 19,
   "metadata": {},
   "outputs": [
    {
     "name": "stdout",
     "output_type": "stream",
     "text": [
      "Total score (averaged over agents) this episode: 0.5000000074505806 , individual scores: [ 0.50000001  0.39000001]\n",
      "Total score (averaged over agents) this episode: 0.5000000074505806 , individual scores: [ 0.50000001  0.49000001]\n",
      "Total score (averaged over agents) this episode: 0.5900000091642141 , individual scores: [ 0.50000001  0.59000001]\n",
      "Total score (averaged over agents) this episode: 0.5900000091642141 , individual scores: [ 0.50000001  0.59000001]\n",
      "Total score (averaged over agents) this episode: 0.5900000091642141 , individual scores: [ 0.50000001  0.59000001]\n",
      "Total score (averaged over agents) this episode: 0.9000000134110451 , individual scores: [ 0.89000001  0.90000001]\n",
      "Total score (averaged over agents) this episode: 1.0000000149011612 , individual scores: [ 1.00000001  0.89000001]\n",
      "Total score (averaged over agents) this episode: 1.1900000181049109 , individual scores: [ 1.10000002  1.19000002]\n",
      "Total score (averaged over agents) this episode: 0.800000011920929 , individual scores: [ 0.80000001  0.79000001]\n",
      "Total score (averaged over agents) this episode: 0.4000000059604645 , individual scores: [ 0.40000001  0.39000001]\n"
     ]
    }
   ],
   "source": [
    "for i in range(10):\n",
    "    trained_qmodel_run(env)\n",
    "\n"
   ]
  },
  {
   "cell_type": "code",
   "execution_count": null,
   "metadata": {},
   "outputs": [],
   "source": []
  }
 ],
 "metadata": {
  "kernelspec": {
   "display_name": "Python 3",
   "language": "python",
   "name": "python3"
  },
  "language_info": {
   "codemirror_mode": {
    "name": "ipython",
    "version": 3
   },
   "file_extension": ".py",
   "mimetype": "text/x-python",
   "name": "python",
   "nbconvert_exporter": "python",
   "pygments_lexer": "ipython3",
   "version": "3.6.3"
  }
 },
 "nbformat": 4,
 "nbformat_minor": 2
}
